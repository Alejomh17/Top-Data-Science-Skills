{
 "cells": [
  {
   "cell_type": "code",
   "execution_count": 1,
   "metadata": {
    "collapsed": true
   },
   "outputs": [],
   "source": [
    "import numpy as np\n",
    "import pandas as pd"
   ]
  },
  {
   "cell_type": "code",
   "execution_count": 22,
   "metadata": {
    "collapsed": true
   },
   "outputs": [],
   "source": [
    "from matplotlib import pyplot as plt\n",
    "plt.style.use('ggplot')\n",
    "import seaborn as sns"
   ]
  },
  {
   "cell_type": "code",
   "execution_count": 21,
   "metadata": {
    "collapsed": false
   },
   "outputs": [],
   "source": [
    "%matplotlib inline"
   ]
  },
  {
   "cell_type": "code",
   "execution_count": 282,
   "metadata": {
    "collapsed": false
   },
   "outputs": [],
   "source": [
    "#bla  = pd.read_csv('mycsvfile_v1.csv', names = ['position','salary','rating','words','job_id','link','name'])\n",
    "#bla.head()"
   ]
  },
  {
   "cell_type": "code",
   "execution_count": 283,
   "metadata": {
    "collapsed": false
   },
   "outputs": [],
   "source": [
    "#bla.columns"
   ]
  },
  {
   "cell_type": "code",
   "execution_count": 284,
   "metadata": {
    "collapsed": false
   },
   "outputs": [],
   "source": [
    "#bla.name.head()"
   ]
  },
  {
   "cell_type": "code",
   "execution_count": 285,
   "metadata": {
    "collapsed": false
   },
   "outputs": [],
   "source": [
    "#bla.name.str.split('–',expand=True).head()"
   ]
  },
  {
   "cell_type": "code",
   "execution_count": 286,
   "metadata": {
    "collapsed": false
   },
   "outputs": [],
   "source": [
    "#bla[['Name','city']] = bla.name.str.split('–', expand =True)"
   ]
  },
  {
   "cell_type": "code",
   "execution_count": 287,
   "metadata": {
    "collapsed": false,
    "scrolled": true
   },
   "outputs": [],
   "source": [
    "#bla.head()"
   ]
  },
  {
   "cell_type": "code",
   "execution_count": 288,
   "metadata": {
    "collapsed": false
   },
   "outputs": [],
   "source": [
    "#bla = bla.drop(['name'],axis =1)\n",
    "#bla.head()"
   ]
  },
  {
   "cell_type": "code",
   "execution_count": 289,
   "metadata": {
    "collapsed": false
   },
   "outputs": [],
   "source": [
    "#bla[['city','state','tmp']] = bla.city.str.split(',',expand =True)"
   ]
  },
  {
   "cell_type": "code",
   "execution_count": 290,
   "metadata": {
    "collapsed": false
   },
   "outputs": [],
   "source": [
    "#bla.head()"
   ]
  },
  {
   "cell_type": "code",
   "execution_count": 291,
   "metadata": {
    "collapsed": false
   },
   "outputs": [],
   "source": [
    "#bla = bla.drop(['tmp'],axis =1)\n",
    "#bla.head()"
   ]
  },
  {
   "cell_type": "code",
   "execution_count": 292,
   "metadata": {
    "collapsed": false
   },
   "outputs": [],
   "source": [
    "#bla = bla[['job_id','Name','city','state','position','salary','rating','words','link']]\n",
    "#bla.head()"
   ]
  },
  {
   "cell_type": "code",
   "execution_count": 293,
   "metadata": {
    "collapsed": false
   },
   "outputs": [],
   "source": [
    "#bla.salary.head()"
   ]
  },
  {
   "cell_type": "code",
   "execution_count": 294,
   "metadata": {
    "collapsed": false
   },
   "outputs": [],
   "source": [
    "#type(bla.salary[0])"
   ]
  },
  {
   "cell_type": "code",
   "execution_count": 295,
   "metadata": {
    "collapsed": false
   },
   "outputs": [],
   "source": [
    "#bla.salary[2][0:4]"
   ]
  },
  {
   "cell_type": "code",
   "execution_count": 298,
   "metadata": {
    "collapsed": false
   },
   "outputs": [],
   "source": [
    "#tmp_txt = 'Overview\\nHeadquarters New York, NY\\nSize 51 to 200 employees\\nFounded 2010\\n\\Type Company - Private\\nIndustry Information Technology\\nRevenue Unknown / Non-Applicable\\nCompetitors Unknown\\nLearn more about Slice (NY)'\n",
    "def string_from_text(pattern, tmp_txt):\n",
    "    lst  = tmp_txt.split('\\n')\n",
    "    return [''.join(x.split()[1:]) for x in lst if x.find(pattern) !=-1][0]\n",
    "    #return [''.join(x.split()[1:]) if (x.find(pattern) !=-1 and len(x.split())>1) else '' for x in lst ][0]"
   ]
  },
  {
   "cell_type": "code",
   "execution_count": null,
   "metadata": {
    "collapsed": false
   },
   "outputs": [],
   "source": []
  },
  {
   "cell_type": "code",
   "execution_count": null,
   "metadata": {
    "collapsed": false
   },
   "outputs": [],
   "source": [
    "#######################################"
   ]
  },
  {
   "cell_type": "code",
   "execution_count": null,
   "metadata": {
    "collapsed": true
   },
   "outputs": [],
   "source": []
  },
  {
   "cell_type": "code",
   "execution_count": 300,
   "metadata": {
    "collapsed": false
   },
   "outputs": [],
   "source": [
    "#df  = pd.read_csv('mycsvfile_v2.csv', names = ['job_id','rating','position','employer',\n",
    "                                             #'salary','link','words','city','state_code','size','industry'])\n",
    "\n",
    "#df.head(10)"
   ]
  },
  {
   "cell_type": "code",
   "execution_count": 301,
   "metadata": {
    "collapsed": false
   },
   "outputs": [],
   "source": [
    "#df.state_code.unique()"
   ]
  },
  {
   "cell_type": "code",
   "execution_count": 302,
   "metadata": {
    "collapsed": false
   },
   "outputs": [],
   "source": [
    "#len(df.state_code.unique())"
   ]
  },
  {
   "cell_type": "code",
   "execution_count": 303,
   "metadata": {
    "collapsed": false
   },
   "outputs": [],
   "source": [
    "#sorted(df.state_code.unique())"
   ]
  },
  {
   "cell_type": "code",
   "execution_count": 304,
   "metadata": {
    "collapsed": false
   },
   "outputs": [],
   "source": [
    "#df[df.state_code =='061'].head(10)"
   ]
  },
  {
   "cell_type": "code",
   "execution_count": 305,
   "metadata": {
    "collapsed": false
   },
   "outputs": [],
   "source": [
    "#len(df[df.state_code =='061'])"
   ]
  },
  {
   "cell_type": "code",
   "execution_count": 306,
   "metadata": {
    "collapsed": false
   },
   "outputs": [],
   "source": [
    "#sub_df = df.groupby('state_code')"
   ]
  },
  {
   "cell_type": "code",
   "execution_count": 307,
   "metadata": {
    "collapsed": false
   },
   "outputs": [],
   "source": [
    "#for item in sub_df:\n",
    "#    print(item)"
   ]
  },
  {
   "cell_type": "code",
   "execution_count": 308,
   "metadata": {
    "collapsed": false
   },
   "outputs": [],
   "source": [
    "#df.state_code.value_counts()"
   ]
  },
  {
   "cell_type": "code",
   "execution_count": 309,
   "metadata": {
    "collapsed": false
   },
   "outputs": [],
   "source": [
    "#len(df.industry.unique())"
   ]
  },
  {
   "cell_type": "code",
   "execution_count": 310,
   "metadata": {
    "collapsed": false
   },
   "outputs": [],
   "source": [
    "#df.industry.value_counts()"
   ]
  },
  {
   "cell_type": "code",
   "execution_count": 287,
   "metadata": {
    "collapsed": false
   },
   "outputs": [],
   "source": [
    "#plt.hist(df.industry.value_counts()) #??"
   ]
  },
  {
   "cell_type": "code",
   "execution_count": 311,
   "metadata": {
    "collapsed": false
   },
   "outputs": [],
   "source": [
    "#g  = sns.barplot(df.industry.value_counts().index[:10], df.industry.value_counts().values[:10]) #top ten sectors\n",
    "#dummy = g.set_xticklabels(g.get_xticklabels(), rotation=90)"
   ]
  },
  {
   "cell_type": "code",
   "execution_count": 312,
   "metadata": {
    "collapsed": false
   },
   "outputs": [],
   "source": [
    "#g2  = sns.barplot(df.state_code.value_counts().index[:10], df.state_code.value_counts().values[:10]) #top ten sectors\n",
    "#dummy = g2.set_xticklabels(g2.get_xticklabels(), rotation=90)"
   ]
  },
  {
   "cell_type": "code",
   "execution_count": null,
   "metadata": {
    "collapsed": true
   },
   "outputs": [],
   "source": []
  },
  {
   "cell_type": "code",
   "execution_count": null,
   "metadata": {
    "collapsed": true
   },
   "outputs": [],
   "source": [
    "#####################"
   ]
  },
  {
   "cell_type": "code",
   "execution_count": null,
   "metadata": {
    "collapsed": true
   },
   "outputs": [],
   "source": []
  },
  {
   "cell_type": "code",
   "execution_count": 348,
   "metadata": {
    "collapsed": false
   },
   "outputs": [
    {
     "data": {
      "text/html": [
       "<div>\n",
       "<table border=\"1\" class=\"dataframe\">\n",
       "  <thead>\n",
       "    <tr style=\"text-align: right;\">\n",
       "      <th></th>\n",
       "      <th>job_id</th>\n",
       "      <th>rating</th>\n",
       "      <th>position</th>\n",
       "      <th>company</th>\n",
       "      <th>job_city</th>\n",
       "      <th>job_state_code</th>\n",
       "      <th>sal_low</th>\n",
       "      <th>sal_high</th>\n",
       "      <th>link</th>\n",
       "      <th>description</th>\n",
       "      <th>hq_city</th>\n",
       "      <th>hq_state_code</th>\n",
       "      <th>size</th>\n",
       "      <th>industry</th>\n",
       "    </tr>\n",
       "  </thead>\n",
       "  <tbody>\n",
       "    <tr>\n",
       "      <th>8</th>\n",
       "      <td>2792281185</td>\n",
       "      <td>4.3</td>\n",
       "      <td>data marketing intern</td>\n",
       "      <td>Feedvisor</td>\n",
       "      <td>New York</td>\n",
       "      <td>NY</td>\n",
       "      <td>NaN</td>\n",
       "      <td>NaN</td>\n",
       "      <td>https://www.glassdoor.com/partner/jobListing.h...</td>\n",
       "      <td>[b'people.', b'summer', b'work', b'starting', ...</td>\n",
       "      <td>TelAviv-Yafo</td>\n",
       "      <td>Israel</td>\n",
       "      <td>['51', '200']</td>\n",
       "      <td>InformationTechnology</td>\n",
       "    </tr>\n",
       "    <tr>\n",
       "      <th>1892</th>\n",
       "      <td>2854956196</td>\n",
       "      <td>4.0</td>\n",
       "      <td>data engineer</td>\n",
       "      <td>CyberCoders</td>\n",
       "      <td>Santa Monica</td>\n",
       "      <td>CA</td>\n",
       "      <td>NaN</td>\n",
       "      <td>NaN</td>\n",
       "      <td>https://www.glassdoor.com/partner/jobListing.h...</td>\n",
       "      <td>[b'generation', b'over', b'video', b'productio...</td>\n",
       "      <td>Irvine</td>\n",
       "      <td>CA</td>\n",
       "      <td>['201', '500']</td>\n",
       "      <td>BusinessServices</td>\n",
       "    </tr>\n",
       "    <tr>\n",
       "      <th>2370</th>\n",
       "      <td>2807600676</td>\n",
       "      <td>3.4</td>\n",
       "      <td>principal data scientist</td>\n",
       "      <td>Oracle</td>\n",
       "      <td>Redwood City</td>\n",
       "      <td>CA</td>\n",
       "      <td>112.0</td>\n",
       "      <td>163.0</td>\n",
       "      <td>https://www.glassdoor.com/partner/jobListing.h...</td>\n",
       "      <td>[b'technical', b'flexibility', b'very', b'mana...</td>\n",
       "      <td>RedwoodCity</td>\n",
       "      <td>CA</td>\n",
       "      <td>['10000']</td>\n",
       "      <td>InformationTechnology</td>\n",
       "    </tr>\n",
       "    <tr>\n",
       "      <th>1207</th>\n",
       "      <td>2851249944</td>\n",
       "      <td>3.5</td>\n",
       "      <td>tti assistant research scientist</td>\n",
       "      <td>Texas A&amp;M</td>\n",
       "      <td>Austin</td>\n",
       "      <td>TX</td>\n",
       "      <td>42.0</td>\n",
       "      <td>71.0</td>\n",
       "      <td>https://www.glassdoor.com/partner/jobListing.h...</td>\n",
       "      <td>[b'this', b'areas.', b'approaches', b'category...</td>\n",
       "      <td>Killeen</td>\n",
       "      <td>TX</td>\n",
       "      <td>['201', '500']</td>\n",
       "      <td>Education</td>\n",
       "    </tr>\n",
       "    <tr>\n",
       "      <th>891</th>\n",
       "      <td>2741706971</td>\n",
       "      <td>3.7</td>\n",
       "      <td>data scientist</td>\n",
       "      <td>Sapient</td>\n",
       "      <td>New York</td>\n",
       "      <td>NY</td>\n",
       "      <td>85.0</td>\n",
       "      <td>135.0</td>\n",
       "      <td>https://www.glassdoor.com/partner/jobListing.h...</td>\n",
       "      <td>[b'sapient', b'competitions', b'regression', b...</td>\n",
       "      <td>Boston</td>\n",
       "      <td>MA</td>\n",
       "      <td>['10000']</td>\n",
       "      <td>InformationTechnology</td>\n",
       "    </tr>\n",
       "  </tbody>\n",
       "</table>\n",
       "</div>"
      ],
      "text/plain": [
       "          job_id  rating                          position      company  \\\n",
       "8     2792281185     4.3             data marketing intern    Feedvisor   \n",
       "1892  2854956196     4.0                     data engineer  CyberCoders   \n",
       "2370  2807600676     3.4          principal data scientist       Oracle   \n",
       "1207  2851249944     3.5  tti assistant research scientist    Texas A&M   \n",
       "891   2741706971     3.7                    data scientist      Sapient   \n",
       "\n",
       "          job_city job_state_code  sal_low  sal_high  \\\n",
       "8         New York             NY      NaN       NaN   \n",
       "1892  Santa Monica             CA      NaN       NaN   \n",
       "2370  Redwood City             CA    112.0     163.0   \n",
       "1207        Austin             TX     42.0      71.0   \n",
       "891       New York             NY     85.0     135.0   \n",
       "\n",
       "                                                   link  \\\n",
       "8     https://www.glassdoor.com/partner/jobListing.h...   \n",
       "1892  https://www.glassdoor.com/partner/jobListing.h...   \n",
       "2370  https://www.glassdoor.com/partner/jobListing.h...   \n",
       "1207  https://www.glassdoor.com/partner/jobListing.h...   \n",
       "891   https://www.glassdoor.com/partner/jobListing.h...   \n",
       "\n",
       "                                            description       hq_city  \\\n",
       "8     [b'people.', b'summer', b'work', b'starting', ...  TelAviv-Yafo   \n",
       "1892  [b'generation', b'over', b'video', b'productio...        Irvine   \n",
       "2370  [b'technical', b'flexibility', b'very', b'mana...   RedwoodCity   \n",
       "1207  [b'this', b'areas.', b'approaches', b'category...       Killeen   \n",
       "891   [b'sapient', b'competitions', b'regression', b...        Boston   \n",
       "\n",
       "     hq_state_code            size               industry  \n",
       "8           Israel   ['51', '200']  InformationTechnology  \n",
       "1892            CA  ['201', '500']       BusinessServices  \n",
       "2370            CA       ['10000']  InformationTechnology  \n",
       "1207            TX  ['201', '500']              Education  \n",
       "891             MA       ['10000']  InformationTechnology  "
      ]
     },
     "execution_count": 348,
     "metadata": {},
     "output_type": "execute_result"
    }
   ],
   "source": [
    "df  = pd.read_csv('mycsvfile3.csv', names = ['job_id','rating', 'position', 'company', 'job_city', 'job_state_code',\n",
    "         'sal_low', 'sal_high', 'link','description','hq_city','hq_state_code','size','industry'])\n",
    "df.sample(5)"
   ]
  },
  {
   "cell_type": "code",
   "execution_count": 349,
   "metadata": {
    "collapsed": false
   },
   "outputs": [
    {
     "data": {
      "text/plain": [
       "(Index(['job_id', 'rating', 'position', 'company', 'job_city', 'job_state_code',\n",
       "        'sal_low', 'sal_high', 'link', 'description', 'hq_city',\n",
       "        'hq_state_code', 'size', 'industry'],\n",
       "       dtype='object'), 14)"
      ]
     },
     "execution_count": 349,
     "metadata": {},
     "output_type": "execute_result"
    }
   ],
   "source": [
    "df.columns, len(df.columns)"
   ]
  },
  {
   "cell_type": "code",
   "execution_count": 350,
   "metadata": {
    "collapsed": false
   },
   "outputs": [
    {
     "data": {
      "text/plain": [
       "job_id              int64\n",
       "rating            float64\n",
       "position           object\n",
       "company            object\n",
       "job_city           object\n",
       "job_state_code     object\n",
       "sal_low           float64\n",
       "sal_high          float64\n",
       "link               object\n",
       "description        object\n",
       "hq_city            object\n",
       "hq_state_code      object\n",
       "size               object\n",
       "industry           object\n",
       "dtype: object"
      ]
     },
     "execution_count": 350,
     "metadata": {},
     "output_type": "execute_result"
    }
   ],
   "source": [
    "df.dtypes"
   ]
  },
  {
   "cell_type": "code",
   "execution_count": 351,
   "metadata": {
    "collapsed": false
   },
   "outputs": [
    {
     "data": {
      "text/plain": [
       "(2789, 14)"
      ]
     },
     "execution_count": 351,
     "metadata": {},
     "output_type": "execute_result"
    }
   ],
   "source": [
    "df.shape"
   ]
  },
  {
   "cell_type": "code",
   "execution_count": 352,
   "metadata": {
    "collapsed": true
   },
   "outputs": [],
   "source": [
    "##'rating', 'position', 'company'"
   ]
  },
  {
   "cell_type": "code",
   "execution_count": 353,
   "metadata": {
    "collapsed": false
   },
   "outputs": [
    {
     "name": "stdout",
     "output_type": "stream",
     "text": [
      "[ 3.8  4.2  4.4  3.4  3.5  2.   4.   3.6  4.3  4.1  3.9  5.   nan  4.7  3.2\n",
      "  3.7  3.   4.6  3.1  2.9  4.8  4.5  2.5  3.3  4.9  2.8  2.6  2.4  2.3  1.5\n",
      "  2.7  1.9  2.2  1.   1.3  2.1]\n"
     ]
    },
    {
     "data": {
      "text/plain": [
       "(1.0, 5.0)"
      ]
     },
     "execution_count": 353,
     "metadata": {},
     "output_type": "execute_result"
    }
   ],
   "source": [
    "print(df.rating.unique())\n",
    "np.min(df.rating), np.max(df.rating)"
   ]
  },
  {
   "cell_type": "code",
   "execution_count": 354,
   "metadata": {
    "collapsed": false
   },
   "outputs": [
    {
     "name": "stdout",
     "output_type": "stream",
     "text": [
      "['senior sqa engineer (performance cloud)'\n",
      " 'sr. clinical informatics scientist'\n",
      " 'senior data scientist - iot cloud services' ...,\n",
      " 'research scientist, audio'\n",
      " 'senior data scientist - healthcare analytics & delivery, new ventures'\n",
      " 'principal systems engineer']\n"
     ]
    },
    {
     "data": {
      "text/plain": [
       "1599"
      ]
     },
     "execution_count": 354,
     "metadata": {},
     "output_type": "execute_result"
    }
   ],
   "source": [
    "print(df.position.unique())\n",
    "len(df.position.unique())"
   ]
  },
  {
   "cell_type": "code",
   "execution_count": 355,
   "metadata": {
    "collapsed": false
   },
   "outputs": [
    {
     "name": "stdout",
     "output_type": "stream",
     "text": [
      "['palo alto networks' 'invitae' 'arm ltd' ..., 'hireclout' 'genomic health'\n",
      " 'axon']\n"
     ]
    },
    {
     "data": {
      "text/plain": [
       "1484"
      ]
     },
     "execution_count": 355,
     "metadata": {},
     "output_type": "execute_result"
    }
   ],
   "source": [
    "print(df.company.str.lower().unique()) \n",
    "len(df.company.str.lower().unique())"
   ]
  },
  {
   "cell_type": "code",
   "execution_count": 356,
   "metadata": {
    "collapsed": true
   },
   "outputs": [],
   "source": [
    "#'job_city', 'job_state_code','sal_low', 'sal_high', 'link', 'description'"
   ]
  },
  {
   "cell_type": "code",
   "execution_count": 357,
   "metadata": {
    "collapsed": false
   },
   "outputs": [
    {
     "name": "stdout",
     "output_type": "stream",
     "text": [
      "['Santa Clara' 'San Francisco' 'Austin' 'New York' 'Seattle'\n",
      " 'Mountain View' 'Chicago' 'San Mateo' 'Emeryville' 'Los Angeles'\n",
      " 'Washington' 'Dearborn' 'Chantilly' 'Bellevue' 'Redwood City'\n",
      " 'Santa Monica' 'Southfield' \"Tyson's Corner\" 'Redmond' 'Sunnyvale'\n",
      " 'San Jose' 'Indianapolis' 'Palo Alto' 'Cambridge' 'South San Francisco'\n",
      " 'Rutherford' 'Burlingame' 'Reston' 'Cincinnati' 'Rahway' 'Houston'\n",
      " 'Hoboken' 'Port Washington' 'Summit' 'Culver City' nan 'Herndon' 'McLean'\n",
      " 'Hercules' 'Pasadena' 'Jersey City' 'Downers Grove' 'Detroit'\n",
      " 'Springfield' 'Fargo' 'San Bruno' 'Gilbert' 'Fairfax' 'Newark' 'Fremont'\n",
      " 'Paramount' 'Beverly Hills' 'Oakland' 'Boston' 'East Hanover' 'San Diego'\n",
      " 'Brea' 'Fort Worth' 'Woodcliff Lake' 'Rosemead' 'Hayward' 'Monterey Park'\n",
      " 'El Segundo' 'Los Altos' 'Arlington' 'New Monmouth' 'Alhambra'\n",
      " 'Menlo Park' 'Richmond' 'Needham' 'Des Plaines' 'Cypress' 'Troy'\n",
      " 'Birmingham' 'Petaluma' 'Parsippany' 'Columbus' 'Alexandria' 'Burbank'\n",
      " 'Milpitas' 'Portland' 'Foster City' 'Farmington' 'San Carlos' 'Whippany'\n",
      " 'Rockville' 'Madison' 'Bolingbrook' 'Mc Lean' 'Round Rock' 'Union'\n",
      " 'Boulder' 'Berkeley' 'Brooklyn' 'Cedar Park' 'Union City' 'Framingham'\n",
      " 'Kirkland' 'San Ramon' 'Homewood' 'Secaucus' 'Chesterbrook' 'College Park'\n",
      " 'Jessup' 'Marina del Rey' 'Watertown' 'Plano' 'Pleasanton' 'Des Moines'\n",
      " 'Waltham' 'Weehawken' 'Malvern' 'Fort Carson' 'Long Beach' 'Cupertino'\n",
      " 'Stanford' 'Southgate' 'Woodland Hills' 'Gaithersburg' 'Buffalo'\n",
      " 'Los Gatos' 'Wyandotte' 'Melville' 'El Monte' 'Glenview' 'San Pedro'\n",
      " 'Encino' 'Madison Heights' 'Ann Arbor' 'Provo' 'New Haven' 'Newport Beach'\n",
      " 'Cranberry Twp' 'Charlotte' 'Phoenix' 'Glendale' 'Norwood' 'Northbrook'\n",
      " 'Chevy Chase' 'Boca Raton' 'Northridge' 'Bethesda' 'Pittsburgh'\n",
      " 'Fort Meade' 'West Grove' 'Deerfield' 'Sterling' 'Redlands'\n",
      " 'South Plainfield' 'Leesburg' 'Bronx' 'Bothell' 'Mount Pleasant'\n",
      " 'Hollywood' 'East Palo Alto' 'Livermore' 'Columbia' 'Florham Park'\n",
      " 'Scotts Valley' 'Danvers' 'Royal Oak' 'Conshohocken' 'Las Vegas'\n",
      " 'Belleville' 'Jacksonville' 'Atlanta' 'Wellesley' 'Manhattan Beach'\n",
      " 'Lyndhurst' 'Fort Wayne' 'Universal City' 'Addison' 'Tarrytown' 'Livonia'\n",
      " 'Schaumburg' 'Irvine' 'Hinsdale' 'Medford' 'Walnut Creek' 'Lexington'\n",
      " 'America' 'Baltimore' 'Crescent Springs' 'Milwaukee' 'Mill Valley'\n",
      " 'Beavercreek' 'Pontiac' 'Golden' 'Moline' 'Moorestown' 'Vernon']\n"
     ]
    },
    {
     "data": {
      "text/plain": [
       "191"
      ]
     },
     "execution_count": 357,
     "metadata": {},
     "output_type": "execute_result"
    }
   ],
   "source": [
    "print(df.job_city.unique())\n",
    "len(df.job_city.unique())"
   ]
  },
  {
   "cell_type": "code",
   "execution_count": 358,
   "metadata": {
    "collapsed": false
   },
   "outputs": [
    {
     "name": "stdout",
     "output_type": "stream",
     "text": [
      "['CA' 'TX' 'NY' 'WA' 'IL' 'DC' 'MI' 'VA' 'Fairfax' 'IN' 'MA' 'NJ' 'OH' nan\n",
      " 'ND' 'AZ' 'AL' 'OR' 'MD' 'CO' 'PA' 'IA' 'UT' 'CT' 'NC' 'FL' 'NV' 'GA' 'WI'\n",
      " 'Kenton']\n"
     ]
    },
    {
     "data": {
      "text/plain": [
       "30"
      ]
     },
     "execution_count": 358,
     "metadata": {},
     "output_type": "execute_result"
    }
   ],
   "source": [
    "print(df.job_state_code.unique())\n",
    "len(df.job_state_code.unique())"
   ]
  },
  {
   "cell_type": "code",
   "execution_count": 359,
   "metadata": {
    "collapsed": false
   },
   "outputs": [
    {
     "name": "stdout",
     "output_type": "stream",
     "text": [
      "[  nan  159.  109.  132.   55.  181.  116.   57.  140.  139.   93.  187.\n",
      "  112.  138.   94.   84.  102.  134.   72.   78.  151.   95.   96.  118.\n",
      "   53.   99.  117.   73.   75.   92.  168.  101.  105.   79.  131.  126.\n",
      "   97.  167.   70.   88.  210.  133.  175.  119.   80.   85.  141.  113.\n",
      "  125.  111.   62.  107.  128.   81.  165.  147.   45.  142.  110.   65.\n",
      "  122.  106.  120.   98.  115.  121.  108.   67.   48.  136.   90.   76.\n",
      "   58.   42.   61.   54.  123.  100.  104.  162.   77.  166.   32.   60.\n",
      "  149.   74.  124.  130.   68.   52.   69.   71.  152.   34.   87.   64.\n",
      "  127.  103.  146.  171.  145.   50.   83.  150.   86.   30.  192.  114.\n",
      "   51.  205.   66.   63.  154.   36.   49.  129.   82.   56.   46.   59.\n",
      "   29.  174.  160.  189.   41.   44.   40.  157.   89.  164.   91.   25.\n",
      "  206.  135.  184.  143.  158.   39.  144.   37.  204.  137.   47.   38.\n",
      "  161.   35.  180.   31.  170.   33.  186.  148.  177.  153.  155.  185.\n",
      "   43.  190.  209.  188.  169.  172.  178.  193.  163.  173.  201.]\n"
     ]
    },
    {
     "data": {
      "text/plain": [
       "(25.0, 210.0, 167)"
      ]
     },
     "execution_count": 359,
     "metadata": {},
     "output_type": "execute_result"
    }
   ],
   "source": [
    "print(df.sal_low.unique())\n",
    "np.min(df.sal_low),np.max(df.sal_low), len(df.sal_low.unique())"
   ]
  },
  {
   "cell_type": "code",
   "execution_count": 360,
   "metadata": {
    "collapsed": false
   },
   "outputs": [
    {
     "name": "stdout",
     "output_type": "stream",
     "text": [
      "[  nan  206.  156.  185.   74.  250.  171.   80.  202.  200.  153.  263.\n",
      "  164.  195.  135.  116.  148.  190.   84.  120.  211.  137.  192.  167.\n",
      "  184.   96.   91.  152.  141.  130.  212.   93.  109.  132.  249.  157.\n",
      "  150.  118.  187.  178.  161.  143.  241.  111.  133.  274.  172.  154.\n",
      "  203.  134.  121.  128.  162.  105.  149.  180.  126.  166.  205.  214.\n",
      "   78.  201.  138.  140.  103.  168.  122.  173.  110.  147.  218.  142.\n",
      "  165.  155.  127.  139.  170.  104.   94.   69.  159.  191.  113.  208.\n",
      "   72.  136.   92.  176.  160.  193.   81.  169.  233.  177.  123.   56.\n",
      "  112.  101.  232.  210.  145.  179.  107.  158.  115.  163.   83.  117.\n",
      "  151.  213.   59.  175.  234.   73.  146.  181.  125.  247.  209.  131.\n",
      "   98.  197.  198.  102.   63.  100.   50.   51.  269.  215.  174.   88.\n",
      "  268.  108.  106.  217.  194.   58.   85.  119.   76.  183.  186.  144.\n",
      "  129.   70.   75.  199.  204.  223.  189.   79.  264.  124.   71.   64.\n",
      "   61.   77.  114.  207.  227.   47.  289.  261.   90.   65.  188.  222.\n",
      "   57.  239.  285.   82.   62.  226.  219.   86.   97.   89.   67.  255.\n",
      "   48.  245.  229.   99.  256.   95.  225.  254.  182.  259.   55.  228.\n",
      "   40.  196.  243.   87.  248.  242.  271.  235.   54.  221.  240.  231.\n",
      "  216.  272.   68.  297.  220.]\n"
     ]
    },
    {
     "data": {
      "text/plain": [
       "(40.0, 297.0, 209)"
      ]
     },
     "execution_count": 360,
     "metadata": {},
     "output_type": "execute_result"
    }
   ],
   "source": [
    "print(df.sal_high.unique())\n",
    "np.min(df.sal_high),np.max(df.sal_high), len(df.sal_high.unique())"
   ]
  },
  {
   "cell_type": "code",
   "execution_count": 361,
   "metadata": {
    "collapsed": true
   },
   "outputs": [],
   "source": [
    "#'hq_city','hq_state_code', 'size', 'industry'"
   ]
  },
  {
   "cell_type": "code",
   "execution_count": 362,
   "metadata": {
    "collapsed": false
   },
   "outputs": [
    {
     "name": "stdout",
     "output_type": "stream",
     "text": [
      "['CA' 'UnitedKingdom' 'MD' 'KS' 'NY' 'IL' 'Israel' 'WA' 'IN' 'PA' 'VA' 'TX'\n",
      " 'FL' 'Germany' 'GA' 'MN' 'MI' 'SouthKorea' 'MA' 'Sweden' 'UT'\n",
      " 'Switzerland' 'OH' 'India' 'DC' 'NJ' 'France' 'Finland' 'Netherlands' 'OR'\n",
      " 'AZ' 'Spain' 'TN' 'CT' 'Canada' 'PR' 'Denmark' 'MO' 'WI' 'DE' 'Ireland'\n",
      " '61' 'CO' 'NC' 'ME' '133' 'Australia' 'NM' 'China' 'KY' 'AR' 'Singapore'\n",
      " 'WV' 'NV' 'AK' 'Bermuda' 'Japan' 'RI' 'Poland' 'Barbados' 'SC' 'WA(US)'\n",
      " 'Austria' 'NY(US)' 'Seychelles' 'OK' 'HongKong' 'CA(US)']\n"
     ]
    },
    {
     "data": {
      "text/plain": [
       "68"
      ]
     },
     "execution_count": 362,
     "metadata": {},
     "output_type": "execute_result"
    }
   ],
   "source": [
    "print(df.hq_state_code.unique())\n",
    "len(df.hq_state_code.unique())"
   ]
  },
  {
   "cell_type": "code",
   "execution_count": 363,
   "metadata": {
    "collapsed": false
   },
   "outputs": [
    {
     "name": "stdout",
     "output_type": "stream",
     "text": [
      "['SantaClara' 'SanFrancisco' 'Cambridge' 'Bethesda' 'OverlandPark'\n",
      " 'Patchogue' 'Chicago' 'TelAviv-Yafo' 'Seattle' 'SanJose' 'NewYork'\n",
      " 'MountainView' 'Indianapolis' 'SanMateo' 'Emeryville' 'CulverCity'\n",
      " 'Philadelphia' 'McLean' 'Austin' 'MiamiBeach' 'Wiesbaden'\n",
      " 'ElkGroveVillage' 'Atlanta' 'Chantilly' 'GlenAllen' 'Alexandria'\n",
      " 'Brentford' 'Minneapolis' 'PaloAlto' 'SantaMonica' 'Southfield'\n",
      " 'TysonsCorner' 'Redmond' 'Irvine' 'SanBruno' 'Icheongeo-ri' 'Tarrytown'\n",
      " 'Pleasanton' 'LosAngeles' 'RedwoodCity' 'Stockholm' 'Naples'\n",
      " 'SouthSanFrancisco' 'Lehi' 'GENÈVE' 'Fresno' 'London' 'LosGatos'\n",
      " 'Cincinnati' 'SantaBarbara' 'Pune' 'Washington' 'FosterCity' 'Kenilworth'\n",
      " 'SanRafael' 'Boston' 'FranklinLakes' 'Baltimore' 'Hoboken'\n",
      " 'PortWashington' 'Germantown' 'MenloPark' 'Paris' 'Kingsford' 'Alpharetta'\n",
      " 'Nokia' 'Greenfield' 'Reston' 'Sunnyvale' 'Sacramento' 'Dublin' 'SanDiego'\n",
      " 'Zurich' 'Waltham' 'WesternSprings' 'Amsterdam' 'Beaverton' 'Detroit'\n",
      " 'Arlington' 'Rockville' 'Fairfax' 'Scottsdale' 'Newark' 'Barcelona'\n",
      " 'Nashville' 'Stanford' 'Paramount' 'Weston' 'Millersville' 'Oakland'\n",
      " 'Hartford' 'Toronto' 'CherryHill' 'JerseyCity' 'FortWorth' 'RyeBrook'\n",
      " 'Guaynabo' 'Warren' 'Brea' 'HoffmanEstates' 'Bagsvaerd' 'Chesterfield'\n",
      " 'Milwaukee' 'Pasadena' 'Somerset' 'Carlsbad' 'Rosemead' 'Wilmington'\n",
      " 'NewDelhi' 'Houston' 'ElSegundo' 'LosAltos' 'Paramus' 'FarmingtonHills'\n",
      " 'Waldorf' 'Irving' 'Dearborn' 'Dulles' 'Denver' 'BaskingRidge' 'Stamford'\n",
      " 'Milford' 'Raleigh' 'ThousandOaks' 'Cypress' 'Langley' 'Pittsfield'\n",
      " 'Bridgewater' 'Montreal' 'Roseland' 'Columbus' 'Bellevue' 'Basel' 'Itasca'\n",
      " 'Burbank' 'Kissimmee' 'WestChester' 'Cupertino' 'Milpitas' 'DownersGrove'\n",
      " 'SanCarlos' 'Wayne' 'Dallas' 'Morristown' 'MillValley' 'Leverkusen'\n",
      " 'Laurel' 'WalnutCreek' 'Troy' 'Bolingbrook' 'Montreuil' 'Plano'\n",
      " 'Gaithersburg' 'Tampa' 'Tysons' 'Union' 'Armonk' 'Northbrook' 'Campbell'\n",
      " 'Bhopal' 'Portland' 'Tacoma' 'Jacksonville' 'SaintLouis' 'Bedford'\n",
      " 'Boulder' 'Perth' 'Mumbai' 'Merrillville' 'Buchs' 'Albuquerque' 'Brighton'\n",
      " 'Bayside' 'Springfield' 'HazelCrest' 'Frederick' 'Aurora' 'Chesterbrook'\n",
      " 'RollingMeadows' 'Beijing' 'Emmaus' 'Herndon' 'Provo' 'AnnapolisJunction'\n",
      " 'Norfolk' 'Seatac' 'MarinadelRey' 'WestSeneca' 'EastWatertown' 'Kista'\n",
      " 'NewBrunswick' 'Farmington' 'Johnstown' 'Prospect' 'Berlin'\n",
      " 'SaintPetersburg' 'Killeen' 'NorthHollywood' 'Malvern' 'Ashburn'\n",
      " 'RoundRock' 'Leesburg' 'Columbia' 'BlueBell' 'LongBeach' 'Bentonville'\n",
      " 'NewHydePark' 'Vienna' 'KansasCity' 'Princeton' 'NorthChicago' 'Singapore'\n",
      " 'Charlestown' 'Purchase' 'Gardena' 'Bluefield' 'Sparks' 'AlphenaandenRijn'\n",
      " 'Berkeley' 'Parchment' 'Copenhagen' 'FallsChurch' 'Buffalo' 'Hershey'\n",
      " 'LudwigshafenamRhein' 'Norwalk' 'Venice' 'SilverSpring' 'Anchorage'\n",
      " 'Norwood' 'WoodlandHills' 'Glenview' 'Syracuse' 'Hanover' 'Hamilton'\n",
      " 'Hopkinton' 'STEVENAGE' 'Burlington' 'SanPedro' 'Pittsburgh' 'Tokyo'\n",
      " 'Greenwich' 'Summit' 'Encino' 'Dusseldorf' 'Rockaway' 'Phoenix' 'Seoul'\n",
      " 'Framingham' 'Burlingame' 'AnnArbor' 'WestHollywood' 'NewHaven'\n",
      " 'Parsippany' 'Vernon' 'CranberryTwp' 'WinstonSalem' 'Clearwater'\n",
      " 'MorrisPlains' 'Glendale' 'Minnetonka' 'Livonia' 'Memphis' 'Johnston'\n",
      " 'LakeForest' 'Helsinki' 'Woonsocket' 'Sydney' 'Munich' 'Slough'\n",
      " 'UniversityPark' 'OldGreenwich' 'Fairmont' 'Shoreview' 'FairLawn'\n",
      " 'Northridge' 'CampHill' 'Linthicum' 'Wroclaw' 'StevensPoint' 'Reading'\n",
      " 'Deerfield' 'EllicottCity' 'Redlands' 'Plymouth' 'Bridgetown' 'Epsom'\n",
      " 'Alameda' 'SouthPlainfield' 'CostaMesa' 'Manchester' 'Birmingham'\n",
      " 'FortMill' 'Bronx' 'Rosenberg' 'LongIslandCity' 'AbbottPark' 'Vista'\n",
      " 'Kotzebue' 'Albany' 'Needham' 'OceanCity' 'MountPleasant' 'BeverlyHills'\n",
      " 'Ogden' 'Fairfield' 'Richmond' 'Louisville' 'Camas' 'Walldorf' 'Westford'\n",
      " 'Livermore' 'Riverwoods' 'Schaumburg' 'SanRamon' 'Brooklyn' 'Montvale'\n",
      " 'PlayaVista' 'Chandler' 'MacquariePark' 'Newburyport' 'ScottsValley'\n",
      " 'Plainsboro' 'Hauppauge' 'SparksGlencoe' 'ManhattanBeach' 'Lyndhurst'\n",
      " 'FortWayne' 'Lanham' 'Mesa' 'Addison' 'Victoria' 'Fremont' 'Witney'\n",
      " 'Shanghai' 'Medford' 'LakeSuccess' 'Wichita' 'Statesville' 'Morrisville'\n",
      " 'CrescentSprings' 'CuyahogaFalls' 'Beavercreek' 'Madison' 'Tulsa'\n",
      " 'HongKong' 'FortLauderdale' 'Golden' 'Moline' 'Sheffield' 'SanAntonio'\n",
      " 'NewProvidence' 'ChevyChase' 'Bridgeport' 'SantaCruz' 'LittleRock']\n"
     ]
    },
    {
     "data": {
      "text/plain": [
       "356"
      ]
     },
     "execution_count": 363,
     "metadata": {},
     "output_type": "execute_result"
    }
   ],
   "source": [
    "print(df.hq_city.unique())\n",
    "len(df.hq_city.unique())"
   ]
  },
  {
   "cell_type": "code",
   "execution_count": 364,
   "metadata": {
    "collapsed": false
   },
   "outputs": [
    {
     "name": "stdout",
     "output_type": "stream",
     "text": [
      "[\"['5001', '10000']\" \"['501', '1000']\" \"['10000']\" \"['201', '500']\" '[]'\n",
      " \"['1001', '5000']\" \"['51', '200']\" \"['1', '50']\"]\n"
     ]
    },
    {
     "data": {
      "text/plain": [
       "8"
      ]
     },
     "execution_count": 364,
     "metadata": {},
     "output_type": "execute_result"
    }
   ],
   "source": [
    "print(df['size'].unique()) \n",
    "len(df['size'].unique())"
   ]
  },
  {
   "cell_type": "code",
   "execution_count": 365,
   "metadata": {
    "collapsed": false
   },
   "outputs": [
    {
     "data": {
      "text/plain": [
       "[['5001', '10000'], ['501', '1000'], ['5001', '10000'], ['10000'], ['10000']]"
      ]
     },
     "execution_count": 365,
     "metadata": {},
     "output_type": "execute_result"
    }
   ],
   "source": [
    "import re\n",
    "list(map(lambda x: re.findall('\\d+',x), df['size']))[:5]"
   ]
  },
  {
   "cell_type": "code",
   "execution_count": null,
   "metadata": {
    "collapsed": true
   },
   "outputs": [],
   "source": []
  },
  {
   "cell_type": "code",
   "execution_count": null,
   "metadata": {
    "collapsed": false
   },
   "outputs": [],
   "source": []
  },
  {
   "cell_type": "code",
   "execution_count": 366,
   "metadata": {
    "collapsed": false
   },
   "outputs": [
    {
     "data": {
      "text/plain": [
       "<matplotlib.axes._subplots.AxesSubplot at 0x128944320>"
      ]
     },
     "execution_count": 366,
     "metadata": {},
     "output_type": "execute_result"
    },
    {
     "data": {
      "image/png": "[encoded data removed]",
      "text/plain": [
       "<Figure size 800x550 with 1 Axes>"
      ]
     },
     "metadata": {},
     "output_type": "display_data"
    }
   ],
   "source": [
    "df[df.job_state_code=='NY']['size'].value_counts().loc[[\"['1', '50']\",\"['51', '200']\",\"['201', '500']\",\n",
    "                    \"['501', '1000']\",\"['1001', '5000']\",\"['5001', '10000']\",\"['10000']\",\"[]\" ]].plot(kind ='bar')"
   ]
  },
  {
   "cell_type": "code",
   "execution_count": 340,
   "metadata": {
    "collapsed": false
   },
   "outputs": [
    {
     "data": {
      "text/plain": [
       "<matplotlib.axes._subplots.AxesSubplot at 0x124030208>"
      ]
     },
     "execution_count": 340,
     "metadata": {},
     "output_type": "execute_result"
    },
    {
     "data": {
      "image/png": "[encoded data removed]",
      "text/plain": [
       "<Figure size 800x550 with 1 Axes>"
      ]
     },
     "metadata": {},
     "output_type": "display_data"
    }
   ],
   "source": [
    "df[df.job_state_code=='CA']['size'].value_counts().loc[[\"['1', '50']\",\"['51', '200']\",\"['201', '500']\",\n",
    "                    \"['501', '1000']\",\"['1001', '5000']\",\"['5001', '10000']\",\"['10000']\",\"[]\" ]].plot(kind ='bar')"
   ]
  },
  {
   "cell_type": "code",
   "execution_count": 367,
   "metadata": {
    "collapsed": false
   },
   "outputs": [
    {
     "data": {
      "text/plain": [
       "<matplotlib.axes._subplots.AxesSubplot at 0x1247541d0>"
      ]
     },
     "execution_count": 367,
     "metadata": {},
     "output_type": "execute_result"
    },
    {
     "data": {
      "image/png": "[encoded data removed]",
      "text/plain": [
       "<Figure size 800x550 with 1 Axes>"
      ]
     },
     "metadata": {},
     "output_type": "display_data"
    }
   ],
   "source": [
    "df['size'].value_counts().loc[[\"['1', '50']\",\"['51', '200']\",\"['201', '500']\",\"['501', '1000']\",\"['1001', '5000']\",\n",
    "                               \"['5001', '10000']\",\"['10000']\",\"[]\" ]].plot(kind ='bar')"
   ]
  },
  {
   "cell_type": "code",
   "execution_count": null,
   "metadata": {
    "collapsed": true
   },
   "outputs": [],
   "source": []
  },
  {
   "cell_type": "code",
   "execution_count": null,
   "metadata": {
    "collapsed": true
   },
   "outputs": [],
   "source": []
  },
  {
   "cell_type": "code",
   "execution_count": 368,
   "metadata": {
    "collapsed": false
   },
   "outputs": [
    {
     "data": {
      "text/plain": [
       "(array(['InformationTechnology', 'Biotech&Pharmaceuticals', 'Insurance',\n",
       "        'Oil,Gas,Energy&Utilities', 'Unknown', 'Media', 'Finance',\n",
       "        'BusinessServices', 'Telecommunications', 'Education', 'HealthCare',\n",
       "        'Aerospace&Defense', 'Government', 'Transportation&Logistics',\n",
       "        'Manufacturing', 'Restaurants,Bars&FoodServices',\n",
       "        'Accounting&Legal', 'Construction,Repair&Maintenance',\n",
       "        'Agriculture&Forestry', 'Retail', 'RealEstate', 'Non-Profit',\n",
       "        'Travel&Tourism', 'ConsumerServices',\n",
       "        'Arts,Entertainment&Recreation'], dtype=object), 25)"
      ]
     },
     "execution_count": 368,
     "metadata": {},
     "output_type": "execute_result"
    }
   ],
   "source": [
    "df['industry'].unique(), len(df['industry'].unique())"
   ]
  },
  {
   "cell_type": "code",
   "execution_count": 369,
   "metadata": {
    "collapsed": false
   },
   "outputs": [
    {
     "data": {
      "image/png": "[encoded data removed]",
      "text/plain": [
       "<Figure size 800x550 with 1 Axes>"
      ]
     },
     "metadata": {},
     "output_type": "display_data"
    }
   ],
   "source": [
    "g  = sns.barplot(df[df.job_state_code=='CA'].industry.value_counts().index[:10], df[df.job_state_code=='CA'].industry.value_counts().values[:10]) #top ten sectors\n",
    "dummy = g.set_xticklabels(g.get_xticklabels(), rotation=90)"
   ]
  },
  {
   "cell_type": "code",
   "execution_count": 370,
   "metadata": {
    "collapsed": false
   },
   "outputs": [
    {
     "data": {
      "image/png": "[encoded data removed]",
      "text/plain": [
       "<Figure size 800x550 with 1 Axes>"
      ]
     },
     "metadata": {},
     "output_type": "display_data"
    }
   ],
   "source": [
    "g  = sns.barplot(df[df.job_state_code=='NY'].industry.value_counts().index[:10], df[df.job_state_code=='NY'].industry.value_counts().values[:10]) #top ten sectors\n",
    "dummy = g.set_xticklabels(g.get_xticklabels(), rotation=90)"
   ]
  },
  {
   "cell_type": "code",
   "execution_count": 371,
   "metadata": {
    "collapsed": false
   },
   "outputs": [
    {
     "data": {
      "image/png": "[encoded data removed]",
      "text/plain": [
       "<Figure size 800x550 with 1 Axes>"
      ]
     },
     "metadata": {},
     "output_type": "display_data"
    }
   ],
   "source": [
    "g  = sns.barplot(df.industry.value_counts().index[:10], df.industry.value_counts().values[:10]) #top ten sectors\n",
    "dummy = g.set_xticklabels(g.get_xticklabels(), rotation=90)"
   ]
  },
  {
   "cell_type": "code",
   "execution_count": null,
   "metadata": {
    "collapsed": true
   },
   "outputs": [],
   "source": []
  },
  {
   "cell_type": "code",
   "execution_count": 372,
   "metadata": {
    "collapsed": false
   },
   "outputs": [
    {
     "data": {
      "image/png": "[encoded data removed]",
      "text/plain": [
       "<Figure size 800x550 with 1 Axes>"
      ]
     },
     "metadata": {},
     "output_type": "display_data"
    }
   ],
   "source": [
    "g2  = sns.barplot(df[df.job_state_code=='NY'].hq_state_code.value_counts().index[:10], \n",
    "                  df[df.job_state_code=='NY'].hq_state_code.value_counts().values[:10]) #top ten sectors\n",
    "dummy = g2.set_xticklabels(g2.get_xticklabels(), rotation=90)"
   ]
  },
  {
   "cell_type": "code",
   "execution_count": 373,
   "metadata": {
    "collapsed": false
   },
   "outputs": [
    {
     "data": {
      "image/png": "[encoded data removed]",
      "text/plain": [
       "<Figure size 800x550 with 1 Axes>"
      ]
     },
     "metadata": {},
     "output_type": "display_data"
    }
   ],
   "source": [
    "g2  = sns.barplot(df[df.job_state_code=='CA'].hq_state_code.value_counts().index[:10], \n",
    "                  df[df.job_state_code=='CA'].hq_state_code.value_counts().values[:10]) #top ten sectors\n",
    "dummy = g2.set_xticklabels(g2.get_xticklabels(), rotation=90)"
   ]
  },
  {
   "cell_type": "code",
   "execution_count": null,
   "metadata": {
    "collapsed": true
   },
   "outputs": [],
   "source": []
  },
  {
   "cell_type": "code",
   "execution_count": null,
   "metadata": {
    "collapsed": true
   },
   "outputs": [],
   "source": []
  },
  {
   "cell_type": "code",
   "execution_count": 374,
   "metadata": {
    "collapsed": false
   },
   "outputs": [
    {
     "data": {
      "image/png": "[encoded data removed]",
      "text/plain": [
       "<Figure size 800x550 with 1 Axes>"
      ]
     },
     "metadata": {},
     "output_type": "display_data"
    }
   ],
   "source": [
    "#MEANINGLESS plot. As the sample is not random, can say nothing about population mean.\n",
    "g2  = sns.barplot(df.job_state_code.value_counts().index[:10], df.job_state_code.value_counts().values[:10]) #top ten sectors\n",
    "dummy = g2.set_xticklabels(g2.get_xticklabels(), rotation=90)"
   ]
  },
  {
   "cell_type": "code",
   "execution_count": 266,
   "metadata": {
    "collapsed": false
   },
   "outputs": [],
   "source": []
  },
  {
   "cell_type": "code",
   "execution_count": 382,
   "metadata": {
    "collapsed": false
   },
   "outputs": [
    {
     "data": {
      "text/plain": [
       "<matplotlib.axes._subplots.AxesSubplot at 0x12d1a1d68>"
      ]
     },
     "execution_count": 382,
     "metadata": {},
     "output_type": "execute_result"
    },
    {
     "data": {
      "image/png": "[encoded data removed]",
      "text/plain": [
       "<Figure size 800x550 with 1 Axes>"
      ]
     },
     "metadata": {},
     "output_type": "display_data"
    }
   ],
   "source": [
    "#MEAN SALARY FOR STATES (groupby state)\n",
    "df.groupby('job_state_code').sal_low.agg([np.mean,np.median]).plot(kind='bar')"
   ]
  },
  {
   "cell_type": "code",
   "execution_count": 384,
   "metadata": {
    "collapsed": false
   },
   "outputs": [
    {
     "data": {
      "text/plain": [
       "<matplotlib.axes._subplots.AxesSubplot at 0x12d4010f0>"
      ]
     },
     "execution_count": 384,
     "metadata": {},
     "output_type": "execute_result"
    },
    {
     "data": {
      "image/png": "[encoded data removed]",
      "text/plain": [
       "<Figure size 800x550 with 1 Axes>"
      ]
     },
     "metadata": {},
     "output_type": "display_data"
    }
   ],
   "source": [
    "df.groupby('job_state_code').sal_high.agg([np.mean,np.median]).plot(kind='bar')"
   ]
  },
  {
   "cell_type": "code",
   "execution_count": null,
   "metadata": {
    "collapsed": true
   },
   "outputs": [],
   "source": []
  },
  {
   "cell_type": "code",
   "execution_count": 267,
   "metadata": {
    "collapsed": false
   },
   "outputs": [
    {
     "data": {
      "text/plain": [
       "0    [b'use', b'latest', b'a', b'in', b'analytics',...\n",
       "1    [b'continued', b'cluster', b'programming', b'l...\n",
       "2    [b'tens', b'truth', b'common', b'informatics',...\n",
       "3    [b'billion', b'festival', b'recruitment', b'pr...\n",
       "4    [b'achieve', b'than', b'sits', b'context', b'j...\n",
       "Name: description, dtype: object"
      ]
     },
     "execution_count": 267,
     "metadata": {},
     "output_type": "execute_result"
    }
   ],
   "source": [
    "df['description'].head()"
   ]
  },
  {
   "cell_type": "code",
   "execution_count": 209,
   "metadata": {
    "collapsed": true
   },
   "outputs": [],
   "source": [
    "def find_lang_in_desc(lang):\n",
    "    return list(map(lambda x: re.findall(lang,x), df['description'])) #use apply method instead"
   ]
  },
  {
   "cell_type": "code",
   "execution_count": 273,
   "metadata": {
    "collapsed": false
   },
   "outputs": [
    {
     "data": {
      "text/plain": [
       "0             []\n",
       "1    [b'hadoop']\n",
       "2             []\n",
       "3             []\n",
       "4             []\n",
       "Name: description, dtype: object"
      ]
     },
     "execution_count": 273,
     "metadata": {},
     "output_type": "execute_result"
    }
   ],
   "source": [
    "df['description'].apply(lambda x: re.findall(\"b'hadoop'\",x)).head()"
   ]
  },
  {
   "cell_type": "code",
   "execution_count": 210,
   "metadata": {
    "collapsed": true
   },
   "outputs": [],
   "source": []
  },
  {
   "cell_type": "code",
   "execution_count": 274,
   "metadata": {
    "collapsed": true
   },
   "outputs": [],
   "source": []
  },
  {
   "cell_type": "code",
   "execution_count": 276,
   "metadata": {
    "collapsed": true
   },
   "outputs": [],
   "source": [
    "def is_not_empty(L):\n",
    "    return len(L) !=0"
   ]
  },
  {
   "cell_type": "code",
   "execution_count": 281,
   "metadata": {
    "collapsed": false
   },
   "outputs": [
    {
     "data": {
      "text/plain": [
       "140"
      ]
     },
     "execution_count": 281,
     "metadata": {},
     "output_type": "execute_result"
    }
   ],
   "source": [
    "len(list(filter(is_not_empty, df['description'].apply(lambda x: re.findall(\"b'hadoop'\",x)))))"
   ]
  },
  {
   "cell_type": "code",
   "execution_count": 225,
   "metadata": {
    "collapsed": false
   },
   "outputs": [
    {
     "data": {
      "text/plain": [
       "[[\"b'hadoop'\"], [], [], [], []]"
      ]
     },
     "execution_count": 225,
     "metadata": {},
     "output_type": "execute_result"
    }
   ],
   "source": [
    "find_lang_in_desc(\"b'hadoop'\")[:5]"
   ]
  },
  {
   "cell_type": "code",
   "execution_count": 213,
   "metadata": {
    "collapsed": false
   },
   "outputs": [],
   "source": [
    "hadoop_lst = find_lang_in_desc(\"b'hadoop'\")\n",
    "#hadoop_lst"
   ]
  },
  {
   "cell_type": "code",
   "execution_count": 224,
   "metadata": {
    "collapsed": false
   },
   "outputs": [
    {
     "data": {
      "text/plain": [
       "[[\"b'hadoop'\"], [\"b'hadoop'\"], [\"b'hadoop'\"], [\"b'hadoop'\"], [\"b'hadoop'\"]]"
      ]
     },
     "execution_count": 224,
     "metadata": {},
     "output_type": "execute_result"
    }
   ],
   "source": [
    "list(filter(is_not_empty, find_lang_in_desc(\"b'hadoop'\")))[:5]"
   ]
  },
  {
   "cell_type": "code",
   "execution_count": 216,
   "metadata": {
    "collapsed": false
   },
   "outputs": [
    {
     "data": {
      "text/plain": [
       "109"
      ]
     },
     "execution_count": 216,
     "metadata": {},
     "output_type": "execute_result"
    }
   ],
   "source": [
    "len(list(filter(is_not_empty, find_lang_in_desc(\"b'hadoop'\"))))"
   ]
  },
  {
   "cell_type": "code",
   "execution_count": 217,
   "metadata": {
    "collapsed": false
   },
   "outputs": [
    {
     "data": {
      "text/plain": [
       "112"
      ]
     },
     "execution_count": 217,
     "metadata": {},
     "output_type": "execute_result"
    }
   ],
   "source": [
    "len(list(filter(is_not_empty, find_lang_in_desc(\"hadoop\"))))"
   ]
  },
  {
   "cell_type": "code",
   "execution_count": 218,
   "metadata": {
    "collapsed": false
   },
   "outputs": [
    {
     "data": {
      "text/plain": [
       "62"
      ]
     },
     "execution_count": 218,
     "metadata": {},
     "output_type": "execute_result"
    }
   ],
   "source": [
    "len(list(filter(is_not_empty, find_lang_in_desc(\"b'scala'\"))))"
   ]
  },
  {
   "cell_type": "code",
   "execution_count": 219,
   "metadata": {
    "collapsed": false
   },
   "outputs": [
    {
     "data": {
      "text/plain": [
       "191"
      ]
     },
     "execution_count": 219,
     "metadata": {},
     "output_type": "execute_result"
    }
   ],
   "source": [
    "len(list(filter(is_not_empty, find_lang_in_desc(\"scala\"))))  #has scala, but also scalable"
   ]
  },
  {
   "cell_type": "code",
   "execution_count": 220,
   "metadata": {
    "collapsed": false
   },
   "outputs": [
    {
     "data": {
      "text/plain": [
       "280"
      ]
     },
     "execution_count": 220,
     "metadata": {},
     "output_type": "execute_result"
    }
   ],
   "source": [
    "len(list(filter(is_not_empty, find_lang_in_desc(\"b'python'\"))))"
   ]
  },
  {
   "cell_type": "code",
   "execution_count": 227,
   "metadata": {
    "collapsed": false
   },
   "outputs": [
    {
     "data": {
      "text/plain": [
       "289"
      ]
     },
     "execution_count": 227,
     "metadata": {},
     "output_type": "execute_result"
    }
   ],
   "source": [
    "len(list(filter(is_not_empty, find_lang_in_desc(\"python\"))))"
   ]
  },
  {
   "cell_type": "code",
   "execution_count": null,
   "metadata": {
    "collapsed": true
   },
   "outputs": [],
   "source": [
    "test =[]"
   ]
  },
  {
   "cell_type": "code",
   "execution_count": null,
   "metadata": {
    "collapsed": true
   },
   "outputs": [],
   "source": []
  },
  {
   "cell_type": "code",
   "execution_count": 222,
   "metadata": {
    "collapsed": false
   },
   "outputs": [
    {
     "data": {
      "text/plain": [
       "41"
      ]
     },
     "execution_count": 222,
     "metadata": {},
     "output_type": "execute_result"
    }
   ],
   "source": [
    "len(list(filter(is_not_empty, find_lang(\"b'c\\+\\+'\"))))"
   ]
  },
  {
   "cell_type": "code",
   "execution_count": 223,
   "metadata": {
    "collapsed": false
   },
   "outputs": [
    {
     "data": {
      "text/plain": [
       "46"
      ]
     },
     "execution_count": 223,
     "metadata": {},
     "output_type": "execute_result"
    }
   ],
   "source": [
    "len(list(filter(is_not_empty, find_lang(\"c\\+\\+\"))))"
   ]
  },
  {
   "cell_type": "code",
   "execution_count": 228,
   "metadata": {
    "collapsed": false
   },
   "outputs": [
    {
     "data": {
      "text/plain": [
       "66"
      ]
     },
     "execution_count": 228,
     "metadata": {},
     "output_type": "execute_result"
    }
   ],
   "source": [
    "len(list(filter(is_not_empty, find_lang(\"b'excel'\"))))"
   ]
  },
  {
   "cell_type": "code",
   "execution_count": 229,
   "metadata": {
    "collapsed": false
   },
   "outputs": [
    {
     "data": {
      "text/plain": [
       "243"
      ]
     },
     "execution_count": 229,
     "metadata": {},
     "output_type": "execute_result"
    }
   ],
   "source": [
    "len(list(filter(is_not_empty, find_lang('excel'))))  #includes excellent and other"
   ]
  },
  {
   "cell_type": "code",
   "execution_count": 232,
   "metadata": {
    "collapsed": false
   },
   "outputs": [
    {
     "data": {
      "text/plain": [
       "124"
      ]
     },
     "execution_count": 232,
     "metadata": {},
     "output_type": "execute_result"
    }
   ],
   "source": [
    "len(list(filter(is_not_empty, find_lang('excellent'))))"
   ]
  },
  {
   "cell_type": "code",
   "execution_count": 239,
   "metadata": {
    "collapsed": false
   },
   "outputs": [
    {
     "data": {
      "text/plain": [
       "221"
      ]
     },
     "execution_count": 239,
     "metadata": {},
     "output_type": "execute_result"
    }
   ],
   "source": [
    "len(list(filter(is_not_empty, find_lang(\"b'sql'\"))))"
   ]
  },
  {
   "cell_type": "code",
   "execution_count": 238,
   "metadata": {
    "collapsed": false
   },
   "outputs": [
    {
     "data": {
      "text/plain": [
       "254"
      ]
     },
     "execution_count": 238,
     "metadata": {},
     "output_type": "execute_result"
    }
   ],
   "source": [
    "len(list(filter(is_not_empty, find_lang('sql'))))"
   ]
  },
  {
   "cell_type": "code",
   "execution_count": 240,
   "metadata": {
    "collapsed": false
   },
   "outputs": [
    {
     "data": {
      "text/plain": [
       "34"
      ]
     },
     "execution_count": 240,
     "metadata": {},
     "output_type": "execute_result"
    }
   ],
   "source": [
    "len(list(filter(is_not_empty, find_lang(\"b'matlab'\"))))"
   ]
  },
  {
   "cell_type": "code",
   "execution_count": 241,
   "metadata": {
    "collapsed": false
   },
   "outputs": [
    {
     "data": {
      "text/plain": [
       "36"
      ]
     },
     "execution_count": 241,
     "metadata": {},
     "output_type": "execute_result"
    }
   ],
   "source": [
    "len(list(filter(is_not_empty, find_lang('matlab'))))"
   ]
  },
  {
   "cell_type": "code",
   "execution_count": 242,
   "metadata": {
    "collapsed": false
   },
   "outputs": [
    {
     "data": {
      "text/plain": [
       "131"
      ]
     },
     "execution_count": 242,
     "metadata": {},
     "output_type": "execute_result"
    }
   ],
   "source": [
    "len(list(filter(is_not_empty, find_lang(\"b'spark'\"))))"
   ]
  },
  {
   "cell_type": "code",
   "execution_count": 243,
   "metadata": {
    "collapsed": false
   },
   "outputs": [
    {
     "data": {
      "text/plain": [
       "143"
      ]
     },
     "execution_count": 243,
     "metadata": {},
     "output_type": "execute_result"
    }
   ],
   "source": [
    "len(list(filter(is_not_empty, find_lang(\"spark\"))))"
   ]
  },
  {
   "cell_type": "code",
   "execution_count": 244,
   "metadata": {
    "collapsed": false
   },
   "outputs": [
    {
     "data": {
      "text/plain": [
       "1396"
      ]
     },
     "execution_count": 244,
     "metadata": {},
     "output_type": "execute_result"
    }
   ],
   "source": [
    "len(list(filter(is_not_empty, find_lang('r')))) #does not work for R "
   ]
  },
  {
   "cell_type": "code",
   "execution_count": 245,
   "metadata": {
    "collapsed": false
   },
   "outputs": [
    {
     "data": {
      "text/plain": [
       "234"
      ]
     },
     "execution_count": 245,
     "metadata": {},
     "output_type": "execute_result"
    }
   ],
   "source": [
    "len(list(filter(is_not_empty, find_lang(\"b'r'\")))) #this works for R!"
   ]
  },
  {
   "cell_type": "code",
   "execution_count": 158,
   "metadata": {
    "collapsed": false
   },
   "outputs": [
    {
     "data": {
      "text/plain": [
       "0    [b'continued', b'cluster', b'programming', b'l...\n",
       "1    [b'tens', b'truth', b'common', b'informatics',...\n",
       "2    [b'billion', b'festival', b'recruitment', b'pr...\n",
       "3    [b'achieve', b'than', b'sits', b'context', b'j...\n",
       "4    [b'sexual', b'design', b'pictures', b'team', b...\n",
       "Name: description, dtype: object"
      ]
     },
     "execution_count": 158,
     "metadata": {},
     "output_type": "execute_result"
    }
   ],
   "source": [
    "df['description'].head()"
   ]
  },
  {
   "cell_type": "code",
   "execution_count": null,
   "metadata": {
    "collapsed": true
   },
   "outputs": [],
   "source": []
  }
 ],
 "metadata": {
  "anaconda-cloud": {},
  "kernelspec": {
   "display_name": "Python [Root]",
   "language": "python",
   "name": "Python [Root]"
  },
  "language_info": {
   "codemirror_mode": {
    "name": "ipython",
    "version": 3
   },
   "file_extension": ".py",
   "mimetype": "text/x-python",
   "name": "python",
   "nbconvert_exporter": "python",
   "pygments_lexer": "ipython3",
   "version": "3.5.2"
  }
 },
 "nbformat": 4,
 "nbformat_minor": 2
}
