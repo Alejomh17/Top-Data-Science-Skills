{
 "cells": [
  {
   "cell_type": "code",
   "execution_count": 8,
   "metadata": {
    "collapsed": true
   },
   "outputs": [],
   "source": [
    "import pandas as pd\n",
    "Data=pd.read_csv(r'C:\\Users\\Scott\\Python Code\\glassdoor_scraping_project-master\\mycsvfile3.csv')"
   ]
  },
  {
   "cell_type": "code",
   "execution_count": 9,
   "metadata": {},
   "outputs": [
    {
     "data": {
      "text/html": [
       "<div>\n",
       "<style>\n",
       "    .dataframe thead tr:only-child th {\n",
       "        text-align: right;\n",
       "    }\n",
       "\n",
       "    .dataframe thead th {\n",
       "        text-align: left;\n",
       "    }\n",
       "\n",
       "    .dataframe tbody tr th {\n",
       "        vertical-align: top;\n",
       "    }\n",
       "</style>\n",
       "<table border=\"1\" class=\"dataframe\">\n",
       "  <thead>\n",
       "    <tr style=\"text-align: right;\">\n",
       "      <th></th>\n",
       "      <th>ID</th>\n",
       "      <th>Stars</th>\n",
       "      <th>Title</th>\n",
       "      <th>Company</th>\n",
       "      <th>City</th>\n",
       "      <th>State</th>\n",
       "      <th>Salary Min</th>\n",
       "      <th>Salary Max</th>\n",
       "      <th>URL</th>\n",
       "      <th>Words</th>\n",
       "      <th>City2</th>\n",
       "      <th>State2</th>\n",
       "      <th>Numbers</th>\n",
       "      <th>Sector</th>\n",
       "    </tr>\n",
       "  </thead>\n",
       "  <tbody>\n",
       "    <tr>\n",
       "      <th>0</th>\n",
       "      <td>2834897563</td>\n",
       "      <td>NaN</td>\n",
       "      <td>data analyst intern</td>\n",
       "      <td>Mid-Atlantic Physician</td>\n",
       "      <td>Rockville</td>\n",
       "      <td>MD</td>\n",
       "      <td>NaN</td>\n",
       "      <td>NaN</td>\n",
       "      <td>https://www.glassdoor.com/partner/jobListing.h...</td>\n",
       "      <td>['include', 'analysis.', 'to', 'provide', 'hed...</td>\n",
       "      <td>Newark</td>\n",
       "      <td>DE</td>\n",
       "      <td>['1', '50']</td>\n",
       "      <td>HealthCare</td>\n",
       "    </tr>\n",
       "    <tr>\n",
       "      <th>1</th>\n",
       "      <td>2906056396</td>\n",
       "      <td>3.7</td>\n",
       "      <td>model based systems engineering (mbse) and req...</td>\n",
       "      <td>General Motors</td>\n",
       "      <td>Warren</td>\n",
       "      <td>MI</td>\n",
       "      <td>69.0</td>\n",
       "      <td>101.0</td>\n",
       "      <td>https://www.glassdoor.com/partner/jobListing.h...</td>\n",
       "      <td>['areapplied', 'teams', 'gmvehicle', 'these', ...</td>\n",
       "      <td>Detroit</td>\n",
       "      <td>MI</td>\n",
       "      <td>['10000']</td>\n",
       "      <td>Manufacturing</td>\n",
       "    </tr>\n",
       "    <tr>\n",
       "      <th>2</th>\n",
       "      <td>2804011386</td>\n",
       "      <td>3.7</td>\n",
       "      <td>chemical regulatory engineer</td>\n",
       "      <td>Agilent Technologies</td>\n",
       "      <td>Santa Clara</td>\n",
       "      <td>CA</td>\n",
       "      <td>71.0</td>\n",
       "      <td>102.0</td>\n",
       "      <td>https://www.glassdoor.com/partner/jobListing.h...</td>\n",
       "      <td>['action', 'a', 'physical', 'regulatory', 'in'...</td>\n",
       "      <td>SantaClara</td>\n",
       "      <td>CA</td>\n",
       "      <td>['10000']</td>\n",
       "      <td>Biotech&amp;Pharmaceuticals</td>\n",
       "    </tr>\n",
       "    <tr>\n",
       "      <th>3</th>\n",
       "      <td>2842528648</td>\n",
       "      <td>3.2</td>\n",
       "      <td>junior data scientist</td>\n",
       "      <td>Dow Jones</td>\n",
       "      <td>New York</td>\n",
       "      <td>NY</td>\n",
       "      <td>84.0</td>\n",
       "      <td>131.0</td>\n",
       "      <td>https://www.glassdoor.com/partner/jobListing.h...</td>\n",
       "      <td>['talentresourceteam', 'out', 'than', 'produce...</td>\n",
       "      <td>NewYork</td>\n",
       "      <td>061</td>\n",
       "      <td>['5001', '10000']</td>\n",
       "      <td>Media</td>\n",
       "    </tr>\n",
       "    <tr>\n",
       "      <th>4</th>\n",
       "      <td>2845728302</td>\n",
       "      <td>4.0</td>\n",
       "      <td>lead data engineer</td>\n",
       "      <td>Glassdoor</td>\n",
       "      <td>Mill Valley</td>\n",
       "      <td>CA</td>\n",
       "      <td>131.0</td>\n",
       "      <td>148.0</td>\n",
       "      <td>https://www.glassdoor.com/partner/jobListing.h...</td>\n",
       "      <td>['jobs', 'technical', 'proven', 'under', 'very...</td>\n",
       "      <td>MillValley</td>\n",
       "      <td>CA</td>\n",
       "      <td>['501', '1000']</td>\n",
       "      <td>InformationTechnology</td>\n",
       "    </tr>\n",
       "  </tbody>\n",
       "</table>\n",
       "</div>"
      ],
      "text/plain": [
       "           ID  Stars                                              Title  \\\n",
       "0  2834897563    NaN                                data analyst intern   \n",
       "1  2906056396    3.7  model based systems engineering (mbse) and req...   \n",
       "2  2804011386    3.7                       chemical regulatory engineer   \n",
       "3  2842528648    3.2                              junior data scientist   \n",
       "4  2845728302    4.0                                 lead data engineer   \n",
       "\n",
       "                  Company         City State  Salary Min  Salary Max  \\\n",
       "0  Mid-Atlantic Physician    Rockville    MD         NaN         NaN   \n",
       "1          General Motors       Warren    MI        69.0       101.0   \n",
       "2    Agilent Technologies  Santa Clara    CA        71.0       102.0   \n",
       "3               Dow Jones     New York    NY        84.0       131.0   \n",
       "4               Glassdoor  Mill Valley    CA       131.0       148.0   \n",
       "\n",
       "                                                 URL  \\\n",
       "0  https://www.glassdoor.com/partner/jobListing.h...   \n",
       "1  https://www.glassdoor.com/partner/jobListing.h...   \n",
       "2  https://www.glassdoor.com/partner/jobListing.h...   \n",
       "3  https://www.glassdoor.com/partner/jobListing.h...   \n",
       "4  https://www.glassdoor.com/partner/jobListing.h...   \n",
       "\n",
       "                                               Words       City2 State2  \\\n",
       "0  ['include', 'analysis.', 'to', 'provide', 'hed...      Newark     DE   \n",
       "1  ['areapplied', 'teams', 'gmvehicle', 'these', ...     Detroit     MI   \n",
       "2  ['action', 'a', 'physical', 'regulatory', 'in'...  SantaClara     CA   \n",
       "3  ['talentresourceteam', 'out', 'than', 'produce...     NewYork    061   \n",
       "4  ['jobs', 'technical', 'proven', 'under', 'very...  MillValley     CA   \n",
       "\n",
       "             Numbers                   Sector  \n",
       "0        ['1', '50']               HealthCare  \n",
       "1          ['10000']            Manufacturing  \n",
       "2          ['10000']  Biotech&Pharmaceuticals  \n",
       "3  ['5001', '10000']                    Media  \n",
       "4    ['501', '1000']    InformationTechnology  "
      ]
     },
     "execution_count": 9,
     "metadata": {},
     "output_type": "execute_result"
    }
   ],
   "source": [
    "Data.head()"
   ]
  },
  {
   "cell_type": "code",
   "execution_count": 12,
   "metadata": {},
   "outputs": [
    {
     "data": {
      "text/plain": [
       "\"['talentresourceteam', 'out', 'than', 'produces', 'line.', 'learning', 'forces', 'division', 'marketwatch', 'events.', 'it', 'innovative', 'role', 'junior', 'class', 'looking', 'world', 'corp', 'nws', 'provider', 'put', 'receive', 'wsj', 'the', 'venturesource.dow', 'are', 'developing', 'best', 'scientist', 'nuance', 'talent', 'analytics', 'offers', 'business', 'quality', 'assist', 'please', 'employment', 'scale', 'largest', 'subscription', 'veteran', 'readerswe', '.', 'present', 'jobs', 'will', 'circulation', 'americas', 'formats', 'stages', 'membership', 'in', 'machine', 'leading', 'journalism.', 'products', 'area', 'disability', 'great', 'compliance', 'information', 'global', 'digital', 'obsession', 'wrangling', 'on', 'disabilities', 'by', 'and', 'barrons', 'team', 'execution', 'group', 'newswires', 'big', 'more', 'asx', 'factiva', 'applicants', 'delivering', 'of', 'projects', 'or', 'assistance', 'us', 'color', 'around', 'help', 'reasonable', 'decisions', 'interview', 'completing', 'nasdaq', 'reporting', 'require', 'your', 'produced', 'careers', 'without', 'has', 'mobile', 'street', 'job', 'buy.', 'ecommerce', 'large', 'race', 'making', 'origin', 'we', 'dowjones.com', 'you', 'one', 'inform', 'journals', 'as', 'accommodation', 'flagship', 'fair', 'is', 'believe', 'individuals', 'nwslv', 'subject', 'lifecycle.', 'online', 'exceptional', 'that', 'some', 'architecture', 'methods', 'our', 'modeling', 'data', 'economics', 'visualization', 'customer', 'mission', 'skillsas', 'all', 'products.', 'need', 'improvement', 'process.', 'consumers', 'globally.', 'national', 'description', 'applied', 'news', 'consideration', 'status.', 'bring', 'growth', 'nwsa', '3', 'protected', 'factual', 'djx', 'for', 'obsess', 'gathering', 'team.', 'research', 'religion', 'have', 'journal', 'newspaper', 'support', 'strategies.', 'newsworthy', 'wall', 'product', 'building', 'if', 'markets', 'organizations', 'including', 'multiple', 'business.', 'financial', 'regard', 'worlds', 'over', 'join', 'member', 'at', 'dow', 'contact', 'background', 'applications', 'status', 'operations', 'paid', 'reach', 'due', 'approaches', 'well', 'daily', 'unrivaled', 'this', 'plus.', 'journalism', 'providing', 'with', 'engagement', 'content', 'application', 'through', 'management', 'committed', 'both', 'publications', 'live', 'risk', 'sex', 'years', 'jones', 'animate', 'includes', 'print', 'a', 'to', 'an', 'across', 'qualified', 'today', 'balance', 'supporting']\""
      ]
     },
     "execution_count": 12,
     "metadata": {},
     "output_type": "execute_result"
    }
   ],
   "source": [
    "Data['Words'][3]"
   ]
  },
  {
   "cell_type": "code",
   "execution_count": 2,
   "metadata": {},
   "outputs": [],
   "source": [
    "?ast"
   ]
  }
 ],
 "metadata": {
  "kernelspec": {
   "display_name": "Python 3",
   "language": "python",
   "name": "python3"
  },
  "language_info": {
   "codemirror_mode": {
    "name": "ipython",
    "version": 3
   },
   "file_extension": ".py",
   "mimetype": "text/x-python",
   "name": "python",
   "nbconvert_exporter": "python",
   "pygments_lexer": "ipython3",
   "version": "3.6.3"
  }
 },
 "nbformat": 4,
 "nbformat_minor": 2
}
